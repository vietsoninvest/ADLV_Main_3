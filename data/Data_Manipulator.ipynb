{
 "cells": [
  {
   "cell_type": "markdown",
   "id": "7cde2ae7",
   "metadata": {},
   "source": [
    "1. Importing Data"
   ]
  },
  {
   "cell_type": "code",
   "execution_count": 4,
   "id": "82f1b57a",
   "metadata": {},
   "outputs": [],
   "source": [
    "import pandas as pd\n",
    "import numpy as np\n",
    "import json\n",
    "\n",
    "df = pd.read_csv('1stJulto17Aug.csv')\n"
   ]
  },
  {
   "cell_type": "code",
   "execution_count": 5,
   "id": "74c1d483",
   "metadata": {},
   "outputs": [
    {
     "name": "stdout",
     "output_type": "stream",
     "text": [
      "   Order_ID        Date      Time      Outlet State                   Model  \\\n",
      "0     82743  2024-07-01  09:33:42   CHADSTONE   VIC    ADLV-22SS-SSAILT-WHT   \n",
      "1     82743  2024-07-01  09:33:42   CHADSTONE   VIC  12706-PRODUCT-DISCOUNT   \n",
      "2     82744  2024-07-01  10:23:38  SYDNEY CBD   NSW    ADLV-24SS-SSARTB-CRM   \n",
      "3     82745  2024-07-01  10:34:06   CHATSWOOD   NSW    ADLV-23FW-SSAFZB-LPK   \n",
      "4     82745  2024-07-01  10:34:06   CHATSWOOD   NSW  12950-PRODUCT-DISCOUNT   \n",
      "\n",
      "   ProductID                                        ProductName    Option  \\\n",
      "0       1600       I LOVE TEDDY BEAR SHORT SLEEVE T-SHIRT WHITE  1.000000   \n",
      "1          0  20% - EOFS 2024<br /> - I LOVE TEDDY BEAR SHOR...  1.345216   \n",
      "2       2672     RABBIT T-SHIRT BEAR SHORT SLEEVE T-SHIRT CREAM  1.000000   \n",
      "3       2257         FUZZY BEAR SHORT SLEEVE T-SHIRT LIGHT PINK  1.000000   \n",
      "4          0  10% - EOFS 2024<br /> - FUZZY BEAR SHORT SLEEV...  1.345216   \n",
      "\n",
      "     ItemBarcode  ...  Qty Revenue  Sales Person  Platform   Tax  \\\n",
      "0  8809860426775  ...  1.0   109.0          Vy T   Offline  9.91   \n",
      "1             NA  ...  1.0   -21.8          Vy T   Offline -1.98   \n",
      "2  8809977038526  ...  1.0   109.0         Vy Le   Offline  9.91   \n",
      "3  8809932245938  ...  1.0   109.0     Ern Yi Te   Offline  9.91   \n",
      "4             NA  ...  1.0   -10.9     Ern Yi Te   Offline -0.99   \n",
      "\n",
      "  Avg.Cost(AUD) L.Cost(AUD)  GP%(Avg.Cost)  GP%(L.Cost)     Profit  \n",
      "0     48.680000   48.680000          50.87        50.87  60.320000  \n",
      "1     72.080297   73.535089             NA           NA  79.899709  \n",
      "2     45.750000   45.750000          53.83        53.83  63.250000  \n",
      "3     48.680000   48.680000          50.87        50.87  60.320000  \n",
      "4     72.080297   73.535089             NA           NA  79.899709  \n",
      "\n",
      "[5 rows x 23 columns]\n"
     ]
    }
   ],
   "source": [
    "# Transform the data\n",
    "df['Order_ID'] = df['Order#']\n",
    "df['Date'] = pd.to_datetime(df['Date/Time']).dt.date\n",
    "df['Time'] = pd.to_datetime(df['Date/Time']).dt.time\n",
    "\n",
    "# Mapping Outlets to States\n",
    "state_mapping = {\n",
    "    'QV MELBOURNE': 'VIC',\n",
    "    'CHADSTONE': 'VIC',\n",
    "    'THE GLEN': 'VIC',\n",
    "    'CHATSWOOD': 'NSW',\n",
    "    'SYDNEY CBD': 'NSW'\n",
    "}\n",
    "df['State'] = df['Outlet'].map(state_mapping)\n",
    "\n",
    "df['Revenue'] = df['Price'] * df['Qty']\n",
    "df['Profit'] = df['Revenue'] - df['L.Cost(AUD)']\n",
    "\n",
    "# Fill missing numeric values with the column mean\n",
    "numeric_columns = df.select_dtypes(include=['float64']).columns\n",
    "df[numeric_columns] = df[numeric_columns].fillna(df[numeric_columns].mean())\n",
    "\n",
    "# Fill missing object values with \"NA\"\n",
    "object_columns = df.select_dtypes(include=['object']).columns\n",
    "df[object_columns] = df[object_columns].fillna(\"NA\")\n",
    "\n",
    "df['Revenue'] = df['Revenue'].round(2)\n",
    "\n",
    "# Add Platform column based on Sales Person\n",
    "df['Platform'] = np.where(df['Sales Person'] == 'Website Admin', 'Online', 'Offline')\n",
    "\n",
    "# Select and rename the necessary columns\n",
    "df_transformed = df[['Order_ID', 'Date', 'Time', 'Outlet', 'State', 'Model', 'ProductID', 'ProductName', 'Option', \n",
    "                     'ItemBarcode', 'Brand', 'Department', 'Price', 'Qty', 'Revenue', 'Sales Person', 'Platform', 'Tax', \n",
    "                     'Avg.Cost(AUD)', 'L.Cost(AUD)', 'GP%(Avg.Cost)', 'GP%(L.Cost)', 'Profit']]\n",
    "# Display the transformed data\n",
    "print(df_transformed.head())\n",
    "\n",
    "# Save the transformed data to a new CSV file if needed\n",
    "df_transformed.to_csv('1stJulto17Aug_cleaned.csv', index=False)"
   ]
  },
  {
   "cell_type": "code",
   "execution_count": 23,
   "id": "76829f0d",
   "metadata": {},
   "outputs": [
    {
     "name": "stdout",
     "output_type": "stream",
     "text": [
      "<class 'pandas.core.frame.DataFrame'>\n",
      "RangeIndex: 25375 entries, 0 to 25374\n",
      "Data columns (total 23 columns):\n",
      " #   Column         Non-Null Count  Dtype  \n",
      "---  ------         --------------  -----  \n",
      " 0   Order_ID       25375 non-null  int64  \n",
      " 1   Date           25375 non-null  object \n",
      " 2   Time           25375 non-null  object \n",
      " 3   Outlet         25375 non-null  object \n",
      " 4   State          25375 non-null  object \n",
      " 5   Model          25375 non-null  object \n",
      " 6   ProductID      25375 non-null  int64  \n",
      " 7   ProductName    25375 non-null  object \n",
      " 8   Option         25375 non-null  float64\n",
      " 9   ItemBarcode    25375 non-null  float64\n",
      " 10  Brand          25375 non-null  object \n",
      " 11  Department     25375 non-null  object \n",
      " 12  Price          25375 non-null  float64\n",
      " 13  Qty            25375 non-null  float64\n",
      " 14  Revenue        25375 non-null  float64\n",
      " 15  Sales Person   25375 non-null  object \n",
      " 16  Platform       25375 non-null  object \n",
      " 17  Tax            25375 non-null  float64\n",
      " 18  Avg.Cost(AUD)  25375 non-null  float64\n",
      " 19  L.Cost(AUD)    25375 non-null  float64\n",
      " 20  GP%(Avg.Cost)  25375 non-null  float64\n",
      " 21  GP%(L.Cost)    25375 non-null  float64\n",
      " 22  Profit         25375 non-null  float64\n",
      "dtypes: float64(11), int64(2), object(10)\n",
      "memory usage: 4.5+ MB\n"
     ]
    }
   ],
   "source": [
    "df_transformed.info()"
   ]
  },
  {
   "cell_type": "code",
   "execution_count": null,
   "id": "f866c477",
   "metadata": {},
   "outputs": [],
   "source": []
  }
 ],
 "metadata": {
  "kernelspec": {
   "display_name": "Python 3 (ipykernel)",
   "language": "python",
   "name": "python3"
  },
  "language_info": {
   "codemirror_mode": {
    "name": "ipython",
    "version": 3
   },
   "file_extension": ".py",
   "mimetype": "text/x-python",
   "name": "python",
   "nbconvert_exporter": "python",
   "pygments_lexer": "ipython3",
   "version": "3.10.5"
  }
 },
 "nbformat": 4,
 "nbformat_minor": 5
}
