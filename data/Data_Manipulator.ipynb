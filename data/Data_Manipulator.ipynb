{
 "cells": [
  {
   "cell_type": "markdown",
   "id": "7cde2ae7",
   "metadata": {},
   "source": [
    "1. Importing Data"
   ]
  },
  {
   "cell_type": "code",
   "execution_count": 1,
   "id": "82f1b57a",
   "metadata": {},
   "outputs": [],
   "source": [
    "import pandas as pd\n",
    "import numpy as np\n",
    "import json\n",
    "\n",
    "\"\"\"\n",
    "======\n",
    "EDIT HERE\n",
    "\"\"\"\n",
    "df = pd.read_csv('2025_Jan_to_Feb26.csv')\n"
   ]
  },
  {
   "cell_type": "code",
   "execution_count": 2,
   "id": "74c1d483",
   "metadata": {},
   "outputs": [
    {
     "name": "stdout",
     "output_type": "stream",
     "text": [
      "   Order_ID        Date      Time         Outlet State  \\\n",
      "0    101065  2025-01-01  00:58:49  MOUNT GRAVATT    NA   \n",
      "1    101065  2025-01-01  00:58:49  MOUNT GRAVATT    NA   \n",
      "2    101066  2025-01-01  01:19:36      CHADSTONE   VIC   \n",
      "3    101066  2025-01-01  01:19:36      CHADSTONE   VIC   \n",
      "4    101067  2025-01-01  01:34:55       THE GLEN   VIC   \n",
      "\n",
      "                    Model  ProductID  \\\n",
      "0   24FW-TP-SS-EX-RHG-BLK       2715   \n",
      "1  17507-PRODUCT-DISCOUNT          0   \n",
      "2    ADLV-22FW-KNLAKG-BLK       1975   \n",
      "3  17815-PRODUCT-DISCOUNT          0   \n",
      "4    ADLV-22FW-HDBKBF-MKG       1781   \n",
      "\n",
      "                                         ProductName Option   ItemBarcode  \\\n",
      "0  RABBIT HUG BOY BABY FACE SHORT SLEEVE T-SHIRT ...      1  8.800271e+12   \n",
      "1  BXD - 10%<br /> - RABBIT HUG BOY BABY FACE SHO...     NA  8.095694e+12   \n",
      "2         A LOGO EMBLEM EMBROIDERY KNIT GLOVES BLACK     NA  8.809902e+12   \n",
      "3  BXD - 60%<br /> - A LOGO EMBLEM EMBROIDERY KNI...     NA  8.095694e+12   \n",
      "4                   BABY FACE MILK GIRL HOODIE BLACK      2  8.809902e+12   \n",
      "\n",
      "   ...  Qty Revenue   Sales Person  Platform    Tax Avg.Cost(AUD) L.Cost(AUD)  \\\n",
      "0  ...  1.0   109.0  Website Admin    Online   9.91     45.750000   45.750000   \n",
      "1  ...  1.0   -10.9  Website Admin    Online  -0.99     60.636213   60.369634   \n",
      "2  ...  1.0   109.0  Website Admin    Online   9.91     48.680000   48.680000   \n",
      "3  ...  1.0   -65.4  Website Admin    Online  -5.95     60.636213   60.369634   \n",
      "4  ...  1.0   189.0  Website Admin    Online  17.18     89.930000   89.930000   \n",
      "\n",
      "   GP%(Avg.Cost)  GP%(L.Cost)     Profit  \n",
      "0       53.83000    53.830000  63.250000  \n",
      "1       52.17511    52.034173  73.062505  \n",
      "2       50.87000    50.870000  60.320000  \n",
      "3       52.17511    52.034173  73.062505  \n",
      "4       47.66000    47.660000  99.070000  \n",
      "\n",
      "[5 rows x 23 columns]\n"
     ]
    }
   ],
   "source": [
    "# Transform the data\n",
    "df['Order_ID'] = df['Order#']\n",
    "df['Date'] = pd.to_datetime(df['Date/Time']).dt.date\n",
    "df['Time'] = pd.to_datetime(df['Date/Time']).dt.time\n",
    "\n",
    "# Mapping Outlets to States\n",
    "state_mapping = {\n",
    "    'QV MELBOURNE': 'VIC',\n",
    "    'CHADSTONE': 'VIC',\n",
    "    'THE GLEN': 'VIC',\n",
    "    'CHATSWOOD': 'NSW',\n",
    "    'SYDNEY CBD': 'NSW'\n",
    "}\n",
    "df['State'] = df['Outlet'].map(state_mapping)\n",
    "\n",
    "df['Revenue'] = df['Price'] * df['Qty']\n",
    "df['Profit'] = df['Revenue'] - df['L.Cost(AUD)']\n",
    "\n",
    "# Fill missing numeric values with the column mean\n",
    "numeric_columns = df.select_dtypes(include=['float64']).columns\n",
    "df[numeric_columns] = df[numeric_columns].fillna(df[numeric_columns].mean())\n",
    "\n",
    "# Fill missing object values with \"NA\"\n",
    "object_columns = df.select_dtypes(include=['object']).columns\n",
    "df[object_columns] = df[object_columns].fillna(\"NA\")\n",
    "\n",
    "df['Revenue'] = df['Revenue'].round(2)\n",
    "\n",
    "# Add Platform column based on Sales Person\n",
    "df['Platform'] = np.where(df['Sales Person'] == 'Website Admin', 'Online', 'Offline')\n",
    "\n",
    "# Select and rename the necessary columns\n",
    "df_transformed = df[['Order_ID', 'Date', 'Time', 'Outlet', 'State', 'Model', 'ProductID', 'ProductName', 'Option', \n",
    "                     'ItemBarcode', 'Brand', 'Department', 'Price', 'Qty', 'Revenue', 'Sales Person', 'Platform', 'Tax', \n",
    "                     'Avg.Cost(AUD)', 'L.Cost(AUD)', 'GP%(Avg.Cost)', 'GP%(L.Cost)', 'Profit']]\n",
    "# Display the transformed data\n",
    "print(df_transformed.head())\n",
    "\n",
    "\"\"\"\n",
    "=====================\n",
    "EDIT HERE\n",
    "\"\"\"\n",
    "# Save the transformed data to a new CSV file if needed\n",
    "df_transformed.to_csv('2025_Jan_to_Feb26_cleaned.csv', index=False)"
   ]
  },
  {
   "cell_type": "code",
   "execution_count": 6,
   "id": "76829f0d",
   "metadata": {},
   "outputs": [
    {
     "name": "stdout",
     "output_type": "stream",
     "text": [
      "<class 'pandas.core.frame.DataFrame'>\n",
      "RangeIndex: 11127 entries, 0 to 11126\n",
      "Data columns (total 23 columns):\n",
      " #   Column         Non-Null Count  Dtype  \n",
      "---  ------         --------------  -----  \n",
      " 0   Order_ID       11127 non-null  int64  \n",
      " 1   Date           11127 non-null  object \n",
      " 2   Time           11127 non-null  object \n",
      " 3   Outlet         11127 non-null  object \n",
      " 4   State          11127 non-null  object \n",
      " 5   Model          11127 non-null  object \n",
      " 6   ProductID      11127 non-null  int64  \n",
      " 7   ProductName    11127 non-null  object \n",
      " 8   Option         11127 non-null  object \n",
      " 9   ItemBarcode    11127 non-null  float64\n",
      " 10  Brand          11127 non-null  object \n",
      " 11  Department     11127 non-null  object \n",
      " 12  Price          11127 non-null  float64\n",
      " 13  Qty            11127 non-null  float64\n",
      " 14  Revenue        11127 non-null  float64\n",
      " 15  Sales Person   11127 non-null  object \n",
      " 16  Platform       11127 non-null  object \n",
      " 17  Tax            11127 non-null  float64\n",
      " 18  Avg.Cost(AUD)  11127 non-null  float64\n",
      " 19  L.Cost(AUD)    11127 non-null  float64\n",
      " 20  GP%(Avg.Cost)  11127 non-null  object \n",
      " 21  GP%(L.Cost)    11127 non-null  object \n",
      " 22  Profit         11127 non-null  float64\n",
      "dtypes: float64(8), int64(2), object(13)\n",
      "memory usage: 2.0+ MB\n"
     ]
    }
   ],
   "source": [
    "df_transformed.info()"
   ]
  },
  {
   "cell_type": "code",
   "execution_count": null,
   "id": "f866c477",
   "metadata": {},
   "outputs": [],
   "source": []
  }
 ],
 "metadata": {
  "kernelspec": {
   "display_name": "Python 3",
   "language": "python",
   "name": "python3"
  },
  "language_info": {
   "codemirror_mode": {
    "name": "ipython",
    "version": 3
   },
   "file_extension": ".py",
   "mimetype": "text/x-python",
   "name": "python",
   "nbconvert_exporter": "python",
   "pygments_lexer": "ipython3",
   "version": "3.10.5"
  }
 },
 "nbformat": 4,
 "nbformat_minor": 5
}
